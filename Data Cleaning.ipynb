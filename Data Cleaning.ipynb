{
  "nbformat": 4,
  "nbformat_minor": 0,
  "metadata": {
    "colab": {
      "provenance": []
    },
    "kernelspec": {
      "name": "python3",
      "display_name": "Python 3"
    },
    "language_info": {
      "name": "python"
    }
  },
  "cells": [
    {
      "cell_type": "code",
      "source": [
        "import pandas as pd\n",
        "import numpy as np\n",
        "import string\n",
        "from nltk.corpus import stopwords\n",
        "import nltk\n",
        "\n",
        "# Download stopwords\n",
        "nltk.download('stopwords')\n",
        "stop_words = set(stopwords.words('english'))\n",
        "\n",
        "# Updated file paths\n",
        "file_paths = [\n",
        "    '/content/Amazon REVIEW.csv',\n",
        "    '/content/HelloFresh REVIEW.csv',\n",
        "    '/content/new_retail_data (1).csv'\n",
        "]\n",
        "\n",
        "# Step 1: Load all datasets\n",
        "datasets = []\n",
        "for file_path in file_paths:\n",
        "    try:\n",
        "        df = pd.read_csv(file_path)\n",
        "        print(f\"Columns in {file_path}: {list(df.columns)}\")\n",
        "        datasets.append(df)\n",
        "        print(f\"Successfully loaded {file_path}\")\n",
        "    except FileNotFoundError as e:\n",
        "        print(f\"File not found: {file_path}\")\n",
        "        print(e)\n",
        "    except Exception as e:\n",
        "        print(f\"Error loading file: {file_path}\")\n",
        "        print(e)\n",
        "\n",
        "# Step 2: Standardize column names\n",
        "for i, df in enumerate(datasets):\n",
        "    # Standardize the review column\n",
        "    if 'Review' in df.columns:\n",
        "        df.rename(columns={'Review': 'Review_Text'}, inplace=True)\n",
        "    elif 'Comments' in df.columns:\n",
        "        df.rename(columns={'Comments': 'Review_Text'}, inplace=True)\n",
        "    else:\n",
        "        print(f\"No review column found in dataset {i + 1}. Check the column names.\")\n",
        "        df['Review_Text'] = \"\"  # Create an empty Review_Text column if missing\n",
        "\n",
        "# Step 3: Combine datasets\n",
        "combined_data = pd.concat(datasets, ignore_index=True)\n",
        "\n",
        "# Step 4: Handle missing values\n",
        "combined_data['Review_Text'] = combined_data['Review_Text'].fillna(\"\")\n",
        "\n",
        "# Step 5: Save the cleaned data\n",
        "cleaned_file_path = '/content/Cleaned_Combined_Reviews.csv'\n",
        "combined_data.to_csv(cleaned_file_path, index=False)\n",
        "\n",
        "print(f\"Cleaned data saved to {cleaned_file_path}\")\n",
        "print(f\"Total rows after cleaning: {len(combined_data)}\")\n"
      ],
      "metadata": {
        "colab": {
          "base_uri": "https://localhost:8080/"
        },
        "id": "f8AGwhxHSdo5",
        "outputId": "5a1075e1-0ff1-4d8c-a8a9-4690c27b5608"
      },
      "execution_count": 9,
      "outputs": [
        {
          "output_type": "stream",
          "name": "stderr",
          "text": [
            "[nltk_data] Downloading package stopwords to /root/nltk_data...\n",
            "[nltk_data]   Package stopwords is already up-to-date!\n"
          ]
        },
        {
          "output_type": "stream",
          "name": "stdout",
          "text": [
            "Columns in /content/Amazon REVIEW.csv: ['Unnamed: 0', 'Title', 'Review', 'Stars', 'Date_of_Experience']\n",
            "Successfully loaded /content/Amazon REVIEW.csv\n",
            "Columns in /content/HelloFresh REVIEW.csv: ['Unnamed: 0', 'Title', 'Review', 'Stars']\n",
            "Successfully loaded /content/HelloFresh REVIEW.csv\n",
            "Columns in /content/new_retail_data (1).csv: ['Transaction_ID', 'Customer_ID', 'Name', 'Email', 'Phone', 'Address', 'City', 'State', 'Zipcode', 'Country', 'Age', 'Gender', 'Income', 'Customer_Segment', 'Date', 'Year', 'Month', 'Time', 'Total_Purchases', 'Amount', 'Total_Amount', 'Product_Category', 'Product_Brand', 'Product_Type', 'Feedback', 'Shipping_Method', 'Payment_Method', 'Order_Status', 'Ratings', 'products']\n",
            "Successfully loaded /content/new_retail_data (1).csv\n",
            "No review column found in dataset 3. Check the column names.\n",
            "Cleaned data saved to /content/Cleaned_Combined_Reviews.csv\n",
            "Total rows after cleaning: 310050\n"
          ]
        }
      ]
    }
  ]
}